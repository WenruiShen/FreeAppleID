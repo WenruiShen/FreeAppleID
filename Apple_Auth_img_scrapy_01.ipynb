{
 "cells": [
  {
   "cell_type": "code",
   "execution_count": 2,
   "metadata": {},
   "outputs": [],
   "source": [
    "#coding=utf-8\n",
    "##############################################\n",
    "#\n",
    "# Author:       Shen Wenrui\n",
    "# Date:         20180326\n",
    "# Description:\n",
    "#\n",
    "##############################################\n",
    "\n",
    "import sys\n",
    "from selenium import webdriver\n",
    "\n",
    "baiduUrl = 'http://www.baidu.com'\n",
    "\n",
    "appleHomepageUrl = 'https://www.apple.com/cn/'\n",
    "# Apple-Id Signin page\n",
    "appleIdHomePageUrl = 'https://appleid.apple.com'\n",
    "#signPageUrl = '/#!&page=signin'\n",
    "#signinUrl = appleIdHomepageUrl + signPageUrl\n",
    "\n",
    "# Apple-Id Signup page\n",
    "appleIdSignUpPageUrl = appleIdHomePageUrl + '/account'\n",
    "\n",
    "browser = webdriver.Chrome()"
   ]
  },
  {
   "cell_type": "code",
   "execution_count": 3,
   "metadata": {},
   "outputs": [
    {
     "name": "stdout",
     "output_type": "stream",
     "text": [
      "https://appleid.apple.com/account\n"
     ]
    }
   ],
   "source": [
    "testUrl = appleIdSignUpPageUrl\n",
    "print(testUrl)\n",
    "\n",
    "browser.implicitly_wait(5)\n",
    "browser.get(testUrl)\n",
    "#html = browser.page_source\n",
    "#print(html)\n"
   ]
  },
  {
   "cell_type": "code",
   "execution_count": 4,
   "metadata": {},
   "outputs": [],
   "source": [
    "authImgBase64_xpath = \"/html/body/div[@id='content']/aid-web/div[@class='app-container']/div[@id='app-content']/\" \\\n",
    "                    \"div[@id='flow']/create-app/aid-create//div[@class='idms-flow-container']//div[@class='idms-step-content']/\" \\\n",
    "                    \"div/div/div[6]/div/create-captcha/\" \\\n",
    "                    \"div/div/div/div/div[1]/div/idms-captcha/div/img\"\n",
    "\n",
    "authImgElement = browser.find_element_by_xpath(authImgBase64_xpath)"
   ]
  },
  {
   "cell_type": "code",
   "execution_count": 5,
   "metadata": {},
   "outputs": [],
   "source": [
    "#print('authImgElement is: ' + str(authImgElement.get_attribute('innerHTML')))"
   ]
  },
  {
   "cell_type": "code",
   "execution_count": 10,
   "metadata": {
    "collapsed": false
   },
   "outputs": [
    {
     "data": {
      "text/plain": [
       "'data:image/jpeg;base64, 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'"
      ]
     },
     "execution_count": 10,
     "metadata": {},
     "output_type": "execute_result"
    }
   ],
   "source": [
    "authImgBase64 = authImgElement.get_attribute('src')\n",
    "authImgBase64"
   ]
  },
  {
   "cell_type": "code",
   "execution_count": 7,
   "metadata": {},
   "outputs": [],
   "source": [
    "import base64 \n",
    "authImgStr = base64.b64decode(authImgBase64[len('data:image/jpeg;base64, '):])\n",
    "authImg_f = open(\"001.jpeg\", \"wb\")\n",
    "authImg_f.write(authImgStr)\n",
    "authImg_f.close()"
   ]
  },
  {
   "cell_type": "code",
   "execution_count": 8,
   "metadata": {},
   "outputs": [
    {
     "data": {
      "image/jpeg": "[encoded data removed]",
      "text/plain": [
       "<IPython.core.display.Image object>"
      ]
     },
     "metadata": {}
    }
   ],
   "source": [
    "from IPython.display import Image \n",
    "Image(filename='001.jpeg')"
   ]
  },
  {
   "cell_type": "code",
   "execution_count": 38,
   "metadata": {},
   "outputs": [],
   "source": [
    "#import PIL.Image\n",
    "#im = PIL.Image.open('001.jpeg')\n",
    "#im.show()"
   ]
  },
  {
   "cell_type": "code",
   "execution_count": 39,
   "metadata": {},
   "outputs": [],
   "source": [
    "browser.quit()"
   ]
  },
  {
   "cell_type": "code",
   "execution_count": null,
   "metadata": {},
   "outputs": [],
   "source": []
  }
 ],
 "metadata": {
  "kernelspec": {
   "display_name": "Python 3",
   "language": "python",
   "name": "python3"
  },
  "language_info": {
   "codemirror_mode": {
    "name": "ipython",
    "version": 3
   },
   "file_extension": ".py",
   "mimetype": "text/x-python",
   "name": "python",
   "nbconvert_exporter": "python",
   "pygments_lexer": "ipython3",
   "version": "3.6.4"
  }
 },
 "nbformat": 4,
 "nbformat_minor": 2
}
