{
 "cells": [
  {
   "cell_type": "code",
   "execution_count": 64,
   "metadata": {},
   "outputs": [],
   "source": [
    "#coding=utf-8\n",
    "##############################################\n",
    "#\n",
    "# Author:       Shen Wenrui\n",
    "# Date:         20180326\n",
    "# Description:\n",
    "#\n",
    "##############################################\n",
    "\n",
    "import sys\n",
    "from selenium import webdriver\n",
    "\n",
    "baiduUrl = 'http://www.baidu.com'\n",
    "\n",
    "appleHomepageUrl = 'https://www.apple.com/cn/'\n",
    "# Apple-Id Signin page\n",
    "appleIdHomePageUrl = 'https://appleid.apple.com'\n",
    "#signPageUrl = '/#!&page=signin'\n",
    "#signinUrl = appleIdHomepageUrl + signPageUrl\n",
    "\n",
    "# Apple-Id Signup page\n",
    "appleIdSignUpPageUrl = appleIdHomePageUrl + '/account'\n",
    "\n",
    "browser = webdriver.Chrome()"
   ]
  },
  {
   "cell_type": "code",
   "execution_count": 68,
   "metadata": {},
   "outputs": [
    {
     "name": "stdout",
     "output_type": "stream",
     "text": [
      "https://appleid.apple.com/account\n"
     ]
    }
   ],
   "source": [
    "# Step-1: Load the Account Sign up page.\n",
    "testUrl = appleIdSignUpPageUrl\n",
    "print(testUrl)\n",
    "\n",
    "browser.implicitly_wait(5)\n",
    "browser.get(testUrl)\n",
    "#html = browser.page_source\n",
    "#print(html)\n"
   ]
  },
  {
   "cell_type": "code",
   "execution_count": 69,
   "metadata": {},
   "outputs": [],
   "source": [
    "# Step-2: Get the Auth img.\n",
    "signup_xpath_base = \"/html/body/div[@id='content']/aid-web/div[@class='app-container']/div[@id='app-content']/\" \\\n",
    "                    \"div[@id='flow']/create-app/aid-create\"\n",
    "signupInput_xpath_base = signup_xpath_base + \\\n",
    "                    \"//div[@class='idms-flow-container']//div[@class='idms-step-content']/div/div\"\n",
    "\n",
    "authPenal_xpath = signupInput_xpath_base + \"/div[6]/div/create-captcha/div/div/div/div/\"\n",
    "authImgBase64_xpath = authPenal_xpath + \"/div[1]/div/idms-captcha/div/img\"\n",
    "\n",
    "authImgElement = browser.find_element_by_xpath(authImgBase64_xpath)\n",
    "#print('authImgElement is: ' + str(authImgElement.get_attribute('innerHTML')))"
   ]
  },
  {
   "cell_type": "code",
   "execution_count": 70,
   "metadata": {},
   "outputs": [
    {
     "name": "stdout",
     "output_type": "stream",
     "text": [
      "data:image/jpeg;base64, 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\n"
     ]
    }
   ],
   "source": [
    "authImgBase64 = authImgElement.get_attribute('src')\n",
    "print(authImgBase64)"
   ]
  },
  {
   "cell_type": "code",
   "execution_count": 71,
   "metadata": {},
   "outputs": [],
   "source": [
    "import base64 \n",
    "authImgStr = base64.b64decode(authImgBase64[len('data:image/jpeg;base64, '):])\n",
    "authImg_f = open(\"001.jpeg\", \"wb\")\n",
    "authImg_f.write(authImgStr)\n",
    "authImg_f.close()"
   ]
  },
  {
   "cell_type": "code",
   "execution_count": 72,
   "metadata": {},
   "outputs": [
    {
     "data": {
      "image/jpeg": "[encoded data removed]",
      "text/plain": [
       "<IPython.core.display.Image object>"
      ]
     },
     "execution_count": 72,
     "metadata": {},
     "output_type": "execute_result"
    }
   ],
   "source": [
    "from IPython.display import Image \n",
    "Image(filename='001.jpeg')"
   ]
  },
  {
   "cell_type": "code",
   "execution_count": 45,
   "metadata": {},
   "outputs": [],
   "source": [
    "#import PIL.Image\n",
    "#im = PIL.Image.open('001.jpeg')\n",
    "#im.show()"
   ]
  },
  {
   "cell_type": "code",
   "execution_count": 73,
   "metadata": {},
   "outputs": [],
   "source": [
    "# Step-3: Recognize the Auth img.\n",
    "parsed_auth_code = \"CF6MZ\""
   ]
  },
  {
   "cell_type": "code",
   "execution_count": 74,
   "metadata": {},
   "outputs": [],
   "source": [
    "# Input the parsed auth code:\n",
    "authCode_xpath = authPenal_xpath + \"/div[2]//input[@type='text']\"\n",
    "authCode_Element = browser.find_element_by_xpath(authCode_xpath)\n",
    "authCode_Element.clear()\n",
    "authCode_Element.send_keys(parsed_auth_code)"
   ]
  },
  {
   "cell_type": "code",
   "execution_count": 75,
   "metadata": {},
   "outputs": [],
   "source": [
    "# Step-4: Input personal information for signing up.\n",
    "signupInput_xpath_personalInfo = signupInput_xpath_base + \"/div[2]/div\"\n",
    "signupInput_xpath_password     = signupInput_xpath_base + \"/div[3]/div\"\n",
    "signupInput_xpath_safeQuestion = signupInput_xpath_base + \"/div[4]/div\""
   ]
  },
  {
   "cell_type": "code",
   "execution_count": 76,
   "metadata": {},
   "outputs": [],
   "source": [
    "# Step-4.1.1: Last_name:\n",
    "last_name_xpath = signupInput_xpath_personalInfo + \"/div[1]//last-name-input//input\"\n",
    "last_name_Element = browser.find_element_by_xpath(last_name_xpath)\n",
    "last_name_Element.clear()\n",
    "last_name_Element.send_keys(\"wenrui\")"
   ]
  },
  {
   "cell_type": "code",
   "execution_count": 77,
   "metadata": {},
   "outputs": [],
   "source": [
    "# Step-4.1.2: First_name:\n",
    "first_name_xpath = signupInput_xpath_personalInfo + \"/div[1]//first-name-input//input\"\n",
    "first_name_Element = browser.find_element_by_xpath(first_name_xpath)\n",
    "first_name_Element.clear()\n",
    "first_name_Element.send_keys(\"shen\")"
   ]
  },
  {
   "cell_type": "code",
   "execution_count": 78,
   "metadata": {},
   "outputs": [],
   "source": [
    "# Step-4.1.3: Nationality:\n",
    "from selenium.webdriver.support.ui import Select\n",
    "nationality_xpath = signupInput_xpath_personalInfo + \"/div[2]//select\"\n",
    "nationality_select = Select(browser.find_element_by_xpath(nationality_xpath))\n",
    "nationality_value = \"USA\" # 美国\n",
    "nationality_select.select_by_value(nationality_value)"
   ]
  },
  {
   "cell_type": "code",
   "execution_count": 79,
   "metadata": {},
   "outputs": [],
   "source": [
    "# Step-4.1.4: BirthDay:\n",
    "user_birthday = \"1992年07月20日\"\n",
    "birthday_xpath = signupInput_xpath_personalInfo + \"/div[3]//input\"\n",
    "birthday_Element = browser.find_element_by_xpath(birthday_xpath)\n",
    "birthday_Element.clear()\n",
    "birthday_Element.send_keys(user_birthday)"
   ]
  },
  {
   "cell_type": "code",
   "execution_count": 80,
   "metadata": {},
   "outputs": [],
   "source": [
    "# Step-4.2.1: Apple-id (E-mail)\n",
    "user_email = \"zhangxiaozhai80@gmail.com\"\n",
    "email_xpath = signupInput_xpath_password + \"/div[1]//input[@type='email']\"\n",
    "email_Element = browser.find_element_by_xpath(email_xpath)\n",
    "email_Element.clear()\n",
    "email_Element.send_keys(user_email)"
   ]
  },
  {
   "cell_type": "code",
   "execution_count": 83,
   "metadata": {},
   "outputs": [],
   "source": [
    "# Step-4.2.2: Password:\n",
    "user_password = \"Apple_swr123\"\n",
    "password_xpath = signupInput_xpath_password + \"/div[2]//new-password//input[@type='password']\"\n",
    "password_Element = browser.find_element_by_xpath(password_xpath)\n",
    "password_Element.clear()\n",
    "password_Element.send_keys(user_password)"
   ]
  },
  {
   "cell_type": "code",
   "execution_count": 84,
   "metadata": {},
   "outputs": [],
   "source": [
    "# Step-4.2.3: Password confirm:\n",
    "confirm_password_xpath = signupInput_xpath_password + \"/div[2]//confirm-password//input[@type='password']\"\n",
    "confirm_password_Element = browser.find_element_by_xpath(confirm_password_xpath)\n",
    "confirm_password_Element.clear()\n",
    "confirm_password_Element.send_keys(user_password)"
   ]
  },
  {
   "cell_type": "code",
   "execution_count": 87,
   "metadata": {},
   "outputs": [],
   "source": [
    "# Step-4.3.1: Safe question - 1:\n",
    "safeQuestion_1_xpath_base = signupInput_xpath_safeQuestion + \"//security-questions-answers/div/div[1]\"\n",
    "safeQuestion_1_xpath = safeQuestion_1_xpath_base + '//select'\n",
    "safeQuestion_1_select = Select(browser.find_element_by_xpath(safeQuestion_1_xpath))\n",
    "safeQuestion_1_value = \"130\" # 你少年时代最好的朋友叫什么名字？\n",
    "safeQuestion_1_select.select_by_value(safeQuestion_1_value)"
   ]
  },
  {
   "cell_type": "code",
   "execution_count": 88,
   "metadata": {},
   "outputs": [],
   "source": [
    "# Step-4.3.2: Safe question - 1 (Answer):\n",
    "answer_1 = \"Bob\"\n",
    "safeQuestion_1_xpath_answer = safeQuestion_1_xpath_base + \"//input[@type='text']\"\n",
    "answer_1_Element = browser.find_element_by_xpath(safeQuestion_1_xpath_answer)\n",
    "answer_1_Element.clear()\n",
    "answer_1_Element.send_keys(answer_1)"
   ]
  },
  {
   "cell_type": "code",
   "execution_count": 89,
   "metadata": {},
   "outputs": [],
   "source": [
    "# Step-4.3.3: Safe question - 2:\n",
    "safeQuestion_2_xpath_base = signupInput_xpath_safeQuestion + \"//security-questions-answers/div/div[2]\"\n",
    "safeQuestion_2_xpath = safeQuestion_2_xpath_base + '//select'\n",
    "safeQuestion_2_select = Select(browser.find_element_by_xpath(safeQuestion_2_xpath))\n",
    "safeQuestion_2_value = \"136\" # 你的理想工作是什么？\n",
    "safeQuestion_2_select.select_by_value(safeQuestion_2_value)"
   ]
  },
  {
   "cell_type": "code",
   "execution_count": 90,
   "metadata": {},
   "outputs": [],
   "source": [
    "# Step-4.3.4: Safe question - 2 (Answer):\n",
    "answer_2 = \"Teacher\"\n",
    "safeQuestion_2_xpath_answer = safeQuestion_2_xpath_base + \"//input[@type='text']\"\n",
    "answer_2_Element = browser.find_element_by_xpath(safeQuestion_2_xpath_answer)\n",
    "answer_2_Element.clear()\n",
    "answer_2_Element.send_keys(answer_2)"
   ]
  },
  {
   "cell_type": "code",
   "execution_count": 91,
   "metadata": {},
   "outputs": [],
   "source": [
    "# Step-4.3.5: Safe question - 3:\n",
    "safeQuestion_3_xpath_base = signupInput_xpath_safeQuestion + \"//security-questions-answers/div/div[3]\"\n",
    "safeQuestion_3_xpath = safeQuestion_3_xpath_base + '//select'\n",
    "safeQuestion_3_select = Select(browser.find_element_by_xpath(safeQuestion_3_xpath))\n",
    "safeQuestion_3_value = \"145\" # 你去过的第一个海滨浴场是哪一个？\n",
    "safeQuestion_3_select.select_by_value(safeQuestion_3_value)"
   ]
  },
  {
   "cell_type": "code",
   "execution_count": 92,
   "metadata": {},
   "outputs": [],
   "source": [
    "# Step-4.3.6: Safe question - 3 (Answer):\n",
    "answer_3 = \"Long Beach\"\n",
    "safeQuestion_3_xpath_answer = safeQuestion_3_xpath_base + \"//input[@type='text']\"\n",
    "answer_3_Element = browser.find_element_by_xpath(safeQuestion_3_xpath_answer)\n",
    "answer_3_Element.clear()\n",
    "answer_3_Element.send_keys(answer_3)"
   ]
  },
  {
   "cell_type": "code",
   "execution_count": 95,
   "metadata": {},
   "outputs": [],
   "source": [
    "# Submit\n",
    "submit_xpath = signup_xpath_base + \"//div[@class='idms-flow-container']//div[@class='idms-step-footer clearfix']//button[@type='button']\"\n",
    "browser.find_element_by_xpath(submit_xpath).click()"
   ]
  },
  {
   "cell_type": "code",
   "execution_count": 96,
   "metadata": {},
   "outputs": [],
   "source": [
    "browser.quit()"
   ]
  },
  {
   "cell_type": "code",
   "execution_count": null,
   "metadata": {},
   "outputs": [],
   "source": []
  }
 ],
 "metadata": {
  "kernelspec": {
   "display_name": "Python 3",
   "language": "python",
   "name": "python3"
  },
  "language_info": {
   "codemirror_mode": {
    "name": "ipython",
    "version": 3
   },
   "file_extension": ".py",
   "mimetype": "text/x-python",
   "name": "python",
   "nbconvert_exporter": "python",
   "pygments_lexer": "ipython3",
   "version": "3.6.4"
  }
 },
 "nbformat": 4,
 "nbformat_minor": 2
}
