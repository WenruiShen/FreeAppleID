{
 "cells": [
  {
   "cell_type": "code",
   "execution_count": 53,
   "metadata": {},
   "outputs": [],
   "source": [
    "#coding=utf-8\n",
    "##############################################\n",
    "#\n",
    "# Author:       Shen Wenrui\n",
    "# Date:         20180326\n",
    "# Description:\n",
    "#\n",
    "##############################################\n",
    "\n",
    "import sys\n",
    "from selenium import webdriver\n",
    "\n",
    "baiduUrl = 'http://www.baidu.com'\n",
    "\n",
    "appleHomepageUrl = 'https://www.apple.com/cn/'\n",
    "# Apple-Id Signin page\n",
    "appleIdHomePageUrl = 'https://appleid.apple.com'\n",
    "#signPageUrl = '/#!&page=signin'\n",
    "#signinUrl = appleIdHomepageUrl + signPageUrl\n",
    "\n",
    "# Apple-Id Signup page\n",
    "appleIdSignUpPageUrl = appleIdHomePageUrl + '/account'\n",
    "\n",
    "browser = webdriver.Chrome()"
   ]
  },
  {
   "cell_type": "code",
   "execution_count": 54,
   "metadata": {},
   "outputs": [
    {
     "name": "stdout",
     "output_type": "stream",
     "text": [
      "https://appleid.apple.com/account\n"
     ]
    }
   ],
   "source": [
    "# Step-1: Load the Account Sign up page.\n",
    "testUrl = appleIdSignUpPageUrl\n",
    "print(testUrl)\n",
    "\n",
    "browser.implicitly_wait(5)\n",
    "browser.get(testUrl)\n",
    "#html = browser.page_source\n",
    "#print(html)\n"
   ]
  },
  {
   "cell_type": "code",
   "execution_count": 55,
   "metadata": {},
   "outputs": [],
   "source": [
    "# Step-2: Get the Auth img.\n",
    "signupInput_xpath_base = \"/html/body/div[@id='content']/aid-web/div[@class='app-container']/div[@id='app-content']/\" \\\n",
    "                    \"div[@id='flow']/create-app/aid-create//div[@class='idms-flow-container']//div[@class='idms-step-content']/\" \\\n",
    "                    \"div/div\"\n",
    "\n",
    "authImgBase64_xpath = signupInput_xpath_base + \"/div[6]/div/create-captcha/\" \\\n",
    "                    \"div/div/div/div/div[1]/div/idms-captcha/div/img\"\n",
    "\n",
    "authImgElement = browser.find_element_by_xpath(authImgBase64_xpath)\n",
    "#print('authImgElement is: ' + str(authImgElement.get_attribute('innerHTML')))"
   ]
  },
  {
   "cell_type": "code",
   "execution_count": 56,
   "metadata": {},
   "outputs": [
    {
     "name": "stdout",
     "output_type": "stream",
     "text": [
      "data:image/jpeg;base64, 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\n"
     ]
    }
   ],
   "source": [
    "authImgBase64 = authImgElement.get_attribute('src')\n",
    "print(authImgBase64)"
   ]
  },
  {
   "cell_type": "code",
   "execution_count": 57,
   "metadata": {},
   "outputs": [],
   "source": [
    "import base64 \n",
    "authImgStr = base64.b64decode(authImgBase64[len('data:image/jpeg;base64, '):])\n",
    "authImg_f = open(\"001.jpeg\", \"wb\")\n",
    "authImg_f.write(authImgStr)\n",
    "authImg_f.close()"
   ]
  },
  {
   "cell_type": "code",
   "execution_count": 58,
   "metadata": {},
   "outputs": [
    {
     "data": {
      "image/jpeg": "[encoded data removed]",
      "text/plain": [
       "<IPython.core.display.Image object>"
      ]
     },
     "execution_count": 58,
     "metadata": {},
     "output_type": "execute_result"
    }
   ],
   "source": [
    "from IPython.display import Image \n",
    "Image(filename='001.jpeg')"
   ]
  },
  {
   "cell_type": "code",
   "execution_count": 45,
   "metadata": {},
   "outputs": [],
   "source": [
    "#import PIL.Image\n",
    "#im = PIL.Image.open('001.jpeg')\n",
    "#im.show()"
   ]
  },
  {
   "cell_type": "code",
   "execution_count": 46,
   "metadata": {},
   "outputs": [],
   "source": [
    "# Step-3: Recognize the Auth img.\n",
    "parsed_auth_code = \"K12T4\""
   ]
  },
  {
   "cell_type": "code",
   "execution_count": null,
   "metadata": {},
   "outputs": [],
   "source": [
    "# Input the parsed auth code:\n"
   ]
  },
  {
   "cell_type": "code",
   "execution_count": 47,
   "metadata": {},
   "outputs": [],
   "source": [
    "# Step-4: Input personal information for signing up.\n",
    "signupInput_xpath_personalInfo = signupInput_xpath_base + \"/div[2]/div\"\n",
    "signupInput_xpath_password     = signupInput_xpath_base + \"/div[3]/div\"\n",
    "signupInput_xpath_safeQuestion = signupInput_xpath_base + \"/div[4]/div\""
   ]
  },
  {
   "cell_type": "code",
   "execution_count": 48,
   "metadata": {},
   "outputs": [],
   "source": [
    "# Last_name:\n",
    "last_name_xpath = signupInput_xpath_personalInfo + \"/div[1]//last-name-input//input\"\n",
    "last_name_Element = browser.find_element_by_xpath(last_name_xpath)\n",
    "last_name_Element.clear()\n",
    "last_name_Element.send_keys(\"wenrui\")"
   ]
  },
  {
   "cell_type": "code",
   "execution_count": 49,
   "metadata": {},
   "outputs": [],
   "source": [
    "# First_name:\n",
    "first_name_xpath = signupInput_xpath_personalInfo + \"/div[1]//first-name-input//input\"\n",
    "first_name_Element = browser.find_element_by_xpath(first_name_xpath)\n",
    "first_name_Element.clear()\n",
    "first_name_Element.send_keys(\"shen\")"
   ]
  },
  {
   "cell_type": "code",
   "execution_count": 50,
   "metadata": {},
   "outputs": [],
   "source": [
    "# Nationality:\n",
    "from selenium.webdriver.support.ui import Select\n",
    "nationality_xpath = signupInput_xpath_personalInfo + \"/div[2]//select\"\n",
    "nationality_select = Select(browser.find_element_by_xpath(nationality_xpath))\n",
    "nationality_value = \"USA\" # 美国\n",
    "nationality_select.select_by_value(nationality_value)\n"
   ]
  },
  {
   "cell_type": "code",
   "execution_count": 51,
   "metadata": {},
   "outputs": [],
   "source": [
    "# BirthDay:\n",
    "birthday_xpath = signupInput_xpath_personalInfo + \"/div[3]//input\"\n",
    "birthday_Element = browser.find_element_by_xpath(birthday_xpath)\n",
    "birthday_Element.clear()\n",
    "birthday_Element.send_keys(\"1992年07月20日\")"
   ]
  },
  {
   "cell_type": "code",
   "execution_count": null,
   "metadata": {},
   "outputs": [],
   "source": [
    "# Apple-id (E-mail)"
   ]
  },
  {
   "cell_type": "code",
   "execution_count": null,
   "metadata": {},
   "outputs": [],
   "source": [
    "# Password:"
   ]
  },
  {
   "cell_type": "code",
   "execution_count": null,
   "metadata": {},
   "outputs": [],
   "source": [
    "# Password confirm:"
   ]
  },
  {
   "cell_type": "code",
   "execution_count": null,
   "metadata": {},
   "outputs": [],
   "source": [
    "# Safe question - 1:"
   ]
  },
  {
   "cell_type": "code",
   "execution_count": null,
   "metadata": {},
   "outputs": [],
   "source": [
    "# Safe question - 1 (Answer):"
   ]
  },
  {
   "cell_type": "code",
   "execution_count": null,
   "metadata": {},
   "outputs": [],
   "source": [
    "# Safe question - 2:"
   ]
  },
  {
   "cell_type": "code",
   "execution_count": null,
   "metadata": {},
   "outputs": [],
   "source": [
    "# Safe question - 2 (Answer):"
   ]
  },
  {
   "cell_type": "code",
   "execution_count": null,
   "metadata": {},
   "outputs": [],
   "source": [
    "# Safe question - 3:"
   ]
  },
  {
   "cell_type": "code",
   "execution_count": null,
   "metadata": {},
   "outputs": [],
   "source": [
    "# Safe question - 3 (Answer):"
   ]
  },
  {
   "cell_type": "code",
   "execution_count": null,
   "metadata": {},
   "outputs": [],
   "source": [
    "# Submit"
   ]
  },
  {
   "cell_type": "code",
   "execution_count": 59,
   "metadata": {},
   "outputs": [],
   "source": [
    "browser.quit()"
   ]
  },
  {
   "cell_type": "code",
   "execution_count": null,
   "metadata": {},
   "outputs": [],
   "source": []
  }
 ],
 "metadata": {
  "kernelspec": {
   "display_name": "Python 3",
   "language": "python",
   "name": "python3"
  },
  "language_info": {
   "codemirror_mode": {
    "name": "ipython",
    "version": 3
   },
   "file_extension": ".py",
   "mimetype": "text/x-python",
   "name": "python",
   "nbconvert_exporter": "python",
   "pygments_lexer": "ipython3",
   "version": "3.6.4"
  }
 },
 "nbformat": 4,
 "nbformat_minor": 2
}
