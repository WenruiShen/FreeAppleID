{
 "cells": [
  {
   "cell_type": "code",
   "execution_count": 1,
   "metadata": {},
   "outputs": [],
   "source": [
    "#coding=utf-8\n",
    "##############################################\n",
    "#\n",
    "# Author:       Shen Wenrui\n",
    "# Date:         20180326\n",
    "# Description:\n",
    "#\n",
    "##############################################\n",
    "\n",
    "import sys\n",
    "from selenium import webdriver\n",
    "\n",
    "baiduUrl = 'http://www.baidu.com'\n",
    "\n",
    "appleHomepageUrl = 'https://www.apple.com/cn/'\n",
    "# Apple-Id Signin page\n",
    "appleIdHomePageUrl = 'https://appleid.apple.com'\n",
    "#signPageUrl = '/#!&page=signin'\n",
    "#signinUrl = appleIdHomepageUrl + signPageUrl\n",
    "\n",
    "# Apple-Id Signup page\n",
    "appleIdSignUpPageUrl = appleIdHomePageUrl + '/account'\n",
    "\n",
    "browser = webdriver.Chrome()"
   ]
  },
  {
   "cell_type": "code",
   "execution_count": 2,
   "metadata": {},
   "outputs": [
    {
     "name": "stdout",
     "output_type": "stream",
     "text": [
      "https://appleid.apple.com/account\n"
     ]
    }
   ],
   "source": [
    "testUrl = appleIdSignUpPageUrl\n",
    "print(testUrl)\n",
    "\n",
    "browser.implicitly_wait(5)\n",
    "browser.get(testUrl)\n",
    "#html = browser.page_source\n",
    "#print(html)\n"
   ]
  },
  {
   "cell_type": "code",
   "execution_count": 3,
   "metadata": {},
   "outputs": [],
   "source": [
    "authImgBase64_xpath = \"/html/body/div[@id='content']/aid-web/div[@class='app-container']/div[@id='app-content']/\" \\\n",
    "                    \"div[@id='flow']/create-app/aid-create//div[@class='idms-flow-container']//div[@class='idms-step-content']/\" \\\n",
    "                    \"div/div/div[6]/div/create-captcha/\" \\\n",
    "                    \"div/div/div/div/div[1]/div/idms-captcha/div/img\"\n",
    "\n",
    "authImgElement = browser.find_element_by_xpath(authImgBase64_xpath)"
   ]
  },
  {
   "cell_type": "code",
   "execution_count": 4,
   "metadata": {},
   "outputs": [],
   "source": [
    "#print('authImgElement is: ' + str(authImgElement.get_attribute('innerHTML')))"
   ]
  },
  {
   "cell_type": "code",
   "execution_count": 10,
   "metadata": {},
   "outputs": [
    {
     "name": "stdout",
     "output_type": "stream",
     "text": [
      "data:image/jpeg;base64, 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\n"
     ]
    }
   ],
   "source": [
    "authImgBase64 = authImgElement.get_attribute('src')\n",
    "print(authImgBase64)"
   ]
  },
  {
   "cell_type": "code",
   "execution_count": 26,
   "metadata": {},
   "outputs": [],
   "source": [
    "import base64 \n",
    "authImgStr = base64.b64decode(authImgBase64[len('data:image/jpeg;base64, '):])\n",
    "authImg_f = open(\"001.jpeg\", \"wb\")\n",
    "authImg_f.write(authImgStr)\n",
    "authImg_f.close()"
   ]
  },
  {
   "cell_type": "code",
   "execution_count": 37,
   "metadata": {},
   "outputs": [
    {
     "data": {
      "image/jpeg": "[encoded data removed]",
      "text/plain": [
       "<IPython.core.display.Image object>"
      ]
     },
     "execution_count": 37,
     "metadata": {},
     "output_type": "execute_result"
    }
   ],
   "source": [
    "from IPython.display import Image \n",
    "Image(filename='001.jpeg')"
   ]
  },
  {
   "cell_type": "code",
   "execution_count": 38,
   "metadata": {},
   "outputs": [],
   "source": [
    "#import PIL.Image\n",
    "#im = PIL.Image.open('001.jpeg')\n",
    "#im.show()"
   ]
  },
  {
   "cell_type": "code",
   "execution_count": 39,
   "metadata": {},
   "outputs": [],
   "source": [
    "browser.quit()"
   ]
  },
  {
   "cell_type": "code",
   "execution_count": null,
   "metadata": {},
   "outputs": [],
   "source": []
  }
 ],
 "metadata": {
  "kernelspec": {
   "display_name": "Python 3",
   "language": "python",
   "name": "python3"
  },
  "language_info": {
   "codemirror_mode": {
    "name": "ipython",
    "version": 3
   },
   "file_extension": ".py",
   "mimetype": "text/x-python",
   "name": "python",
   "nbconvert_exporter": "python",
   "pygments_lexer": "ipython3",
   "version": "3.6.4"
  }
 },
 "nbformat": 4,
 "nbformat_minor": 2
}
