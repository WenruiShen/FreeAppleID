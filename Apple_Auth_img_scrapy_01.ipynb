{
 "cells": [
  {
   "cell_type": "code",
   "execution_count": 29,
   "metadata": {},
   "outputs": [],
   "source": [
    "##############################################\n",
    "#\n",
    "# Author:       Shen Wenrui\n",
    "# Date:         20180326\n",
    "# Description:\n",
    "#\n",
    "##############################################\n",
    "\n",
    "import sys\n",
    "from selenium import webdriver\n",
    "\n",
    "baiduUrl = 'http://www.baidu.com'\n",
    "\n",
    "appleHomepageUrl = 'https://www.apple.com/cn/'\n",
    "# Apple-Id Signin page\n",
    "appleIdHomePageUrl = 'https://appleid.apple.com'\n",
    "#signPageUrl = '/#!&page=signin'\n",
    "#signinUrl = appleIdHomepageUrl + signPageUrl\n",
    "\n",
    "# Apple-Id Signup page\n",
    "appleIdSignUpPageUrl = appleIdHomePageUrl + '/account'\n",
    "\n",
    "browser = webdriver.Chrome()"
   ]
  },
  {
   "cell_type": "code",
   "execution_count": 39,
   "metadata": {},
   "outputs": [
    {
     "name": "stdout",
     "output_type": "stream",
     "text": [
      "https://appleid.apple.com/account\n"
     ]
    }
   ],
   "source": [
    "testUrl = appleIdSignUpPageUrl\n",
    "print(testUrl)\n",
    "\n",
    "browser.implicitly_wait(5)\n",
    "browser.get(testUrl)\n",
    "#html = browser.page_source\n",
    "#print(html)\n"
   ]
  },
  {
   "cell_type": "code",
   "execution_count": 40,
   "metadata": {},
   "outputs": [],
   "source": [
    "authImgBase64_xpath = \"/html/body/div[@id='content']/aid-web/div[@class='app-container']/div[@id='app-content']/\" \\\n",
    "                    \"div[@id='flow']/create-app/aid-create//div[@class='idms-flow-container']//div[@class='idms-step-content']/\" \\\n",
    "                    \"div/div/div[6]/div/create-captcha/\" \\\n",
    "                    \"div/div/div/div/div[1]/div/idms-captcha/div/img\"\n",
    "\n",
    "authImgElement = browser.find_element_by_xpath(authImgBase64_xpath)"
   ]
  },
  {
   "cell_type": "code",
   "execution_count": 41,
   "metadata": {},
   "outputs": [
    {
     "name": "stdout",
     "output_type": "stream",
     "text": [
      "authImgElement is: \n"
     ]
    }
   ],
   "source": [
    "print('authImgElement is: ' + str(authImgElement.get_attribute('innerHTML')))"
   ]
  },
  {
   "cell_type": "code",
   "execution_count": 42,
   "metadata": {},
   "outputs": [
    {
     "name": "stdout",
     "output_type": "stream",
     "text": [
      "authImgBase64 is: data:image/jpeg;base64, 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\n"
     ]
    }
   ],
   "source": [
    "authImgBase64 = authImgElement.get_attribute('src')\n",
    "print('authImgBase64 is: ' + str(authImgBase64))"
   ]
  },
  {
   "cell_type": "code",
   "execution_count": null,
   "metadata": {},
   "outputs": [],
   "source": []
  },
  {
   "cell_type": "code",
   "execution_count": 43,
   "metadata": {},
   "outputs": [],
   "source": [
    "browser.quit()"
   ]
  },
  {
   "cell_type": "code",
   "execution_count": null,
   "metadata": {},
   "outputs": [],
   "source": []
  }
 ],
 "metadata": {
  "kernelspec": {
   "display_name": "Python 3",
   "language": "python",
   "name": "python3"
  },
  "language_info": {
   "codemirror_mode": {
    "name": "ipython",
    "version": 3
   },
   "file_extension": ".py",
   "mimetype": "text/x-python",
   "name": "python",
   "nbconvert_exporter": "python",
   "pygments_lexer": "ipython3",
   "version": "3.6.4"
  }
 },
 "nbformat": 4,
 "nbformat_minor": 2
}
