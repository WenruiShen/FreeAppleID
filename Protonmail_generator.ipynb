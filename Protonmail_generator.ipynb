{
 "cells": [
  {
   "cell_type": "code",
   "execution_count": 6,
   "metadata": {},
   "outputs": [],
   "source": [
    "#coding=utf-8\n",
    "##############################################\n",
    "#\n",
    "# Author:       Shen Wenrui\n",
    "# Date:         20180411\n",
    "# Description:  Generate protonmail accounts automatically,\n",
    "#               and get the auth code from the inbox.\n",
    "#\n",
    "##############################################\n",
    "\n",
    "import sys\n",
    "from selenium import webdriver\n",
    "\n",
    "protonmailHomepageUrl = 'https://protonmail.com'\n",
    "# Signin page\n",
    "SigninHomePageUrl = ''\n",
    "# Signup page\n",
    "SignupHomePageUrl = protonmailHomepageUrl + '/signup'\n",
    "\n",
    "browser = webdriver.Chrome()"
   ]
  },
  {
   "cell_type": "code",
   "execution_count": 7,
   "metadata": {},
   "outputs": [],
   "source": [
    "# Step-1: Load the Sign up page.\n",
    "browser.implicitly_wait(3)\n",
    "browser.get(SignupHomePageUrl)\n",
    "#html = browser.page_source\n",
    "#print(html)"
   ]
  },
  {
   "cell_type": "code",
   "execution_count": 24,
   "metadata": {},
   "outputs": [],
   "source": [
    "from selenium.webdriver.common.action_chains import ActionChains\n",
    "## Step-2: Load the info page.\n",
    "freePlan_xpath_base = \"/html/body//div[@id='signup-plans']//div[@class='panel-group']/div[1]\"\n",
    "#freePlan_button_xpath_show = freePlan_xpath_base + \"//div[@class='panel-footer']//button\"\n",
    "freePlan_button_xpath_show = freePlan_xpath_base + \"/div[1]\"\n",
    "browser.find_element_by_xpath(freePlan_button_xpath_show).click()\n",
    "#print('tempElement is: ' + str(tempElement.get_attribute('innerHTML')))\n",
    "\n",
    "browser.implicitly_wait(1)\n",
    "freePlan_button_xpath_select = freePlan_xpath_base + \"//button[@id='freePlan']\"\n",
    "#browser.find_element_by_xpath(freePlan_button_xpath_select).click()\n",
    "ActionChains(browser).click(browser.find_element_by_xpath(freePlan_button_xpath_select)).perform()"
   ]
  },
  {
   "cell_type": "code",
   "execution_count": 29,
   "metadata": {},
   "outputs": [],
   "source": [
    "browser.implicitly_wait(3)\n",
    "user_name = \"wenrui\"\n",
    "# Step-3: Input personal information.\n",
    "signupInput_xpath_base = \"/html/body//div[@class='wrapper margin']\"\n",
    "# Username.\n",
    "signupInput_xpath_Username = signupInput_xpath_base + \"//div[@class='usernameWrap']/input[@name='username']\"\n",
    "username_Element = browser.find_element_by_xpath(signupInput_xpath_Username)\n",
    "username_Element.clear()\n",
    "username_Element.send_keys(user_name)"
   ]
  },
  {
   "cell_type": "code",
   "execution_count": 30,
   "metadata": {},
   "outputs": [],
   "source": [
    "user_password = \"123aaa_Abxc\"\n",
    "# Password.\n",
    "Password_xpath_base = signupInput_xpath_base + \"/div[@class='usernamePassword-container']\"\n",
    "inputPassword_xpath = Password_xpath_base + \"/div[1]//input\"\n",
    "password_Element = browser.find_element_by_xpath(inputPassword_xpath)\n",
    "password_Element.clear()\n",
    "password_Element.send_keys(user_password)\n",
    "\n",
    "# Password Confirm.\n",
    "confirmPassword_xpath = Password_xpath_base + \"/div[2]//input\"\n",
    "password_Element = browser.find_element_by_xpath(confirmPassword_xpath)\n",
    "password_Element.clear()\n",
    "password_Element.send_keys(user_password)\n",
    "\n",
    "# Please confirm your username and password arre legal !!!\n"
   ]
  },
  {
   "cell_type": "code",
   "execution_count": 33,
   "metadata": {},
   "outputs": [],
   "source": [
    "# Recovery email.\n",
    "recoveryEmail = 'zhangtao002a@protonmail.com'\n",
    "recoveryEmail_xpath = signupInput_xpath_base + \"/section[@class='notificationEmail-container']/input[@type='email']\"\n",
    "recoveryEmail_Element = browser.find_element_by_xpath(recoveryEmail_xpath)\n",
    "recoveryEmail_Element.clear()\n",
    "recoveryEmail_Element.send_keys(recoveryEmail)\n"
   ]
  },
  {
   "cell_type": "code",
   "execution_count": 34,
   "metadata": {},
   "outputs": [],
   "source": [
    "# Click 'Create Account'.\n",
    "createButton_xpath_base = \"/html/body//footer[@class='signupUserForm-footer']/button[@type='submit']\"\n",
    "browser.find_element_by_xpath(createButton_xpath_base).click()\n",
    "\n"
   ]
  },
  {
   "cell_type": "code",
   "execution_count": null,
   "metadata": {},
   "outputs": [],
   "source": []
  },
  {
   "cell_type": "code",
   "execution_count": null,
   "metadata": {},
   "outputs": [],
   "source": []
  },
  {
   "cell_type": "code",
   "execution_count": null,
   "metadata": {},
   "outputs": [],
   "source": []
  },
  {
   "cell_type": "code",
   "execution_count": null,
   "metadata": {},
   "outputs": [],
   "source": []
  },
  {
   "cell_type": "code",
   "execution_count": null,
   "metadata": {},
   "outputs": [],
   "source": []
  },
  {
   "cell_type": "code",
   "execution_count": 5,
   "metadata": {},
   "outputs": [],
   "source": [
    "browser.quit()"
   ]
  },
  {
   "cell_type": "code",
   "execution_count": null,
   "metadata": {},
   "outputs": [],
   "source": []
  }
 ],
 "metadata": {
  "kernelspec": {
   "display_name": "Python 3",
   "language": "python",
   "name": "python3"
  },
  "language_info": {
   "codemirror_mode": {
    "name": "ipython",
    "version": 3
   },
   "file_extension": ".py",
   "mimetype": "text/x-python",
   "name": "python",
   "nbconvert_exporter": "python",
   "pygments_lexer": "ipython3",
   "version": "3.6.4"
  }
 },
 "nbformat": 4,
 "nbformat_minor": 2
}
